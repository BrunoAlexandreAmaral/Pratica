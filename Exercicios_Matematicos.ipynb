{
  "nbformat": 4,
  "nbformat_minor": 0,
  "metadata": {
    "colab": {
      "provenance": [],
      "authorship_tag": "ABX9TyO9rcEFQ+h+4nNeFlsutvxl",
      "include_colab_link": true
    },
    "kernelspec": {
      "name": "python3",
      "display_name": "Python 3"
    },
    "language_info": {
      "name": "python"
    }
  },
  "cells": [
    {
      "cell_type": "markdown",
      "metadata": {
        "id": "view-in-github",
        "colab_type": "text"
      },
      "source": [
        "<a href=\"https://colab.research.google.com/github/BrunoAlexandreAmaral/Pratica/blob/main/Exercicios_Matematicos.ipynb\" target=\"_parent\"><img src=\"https://colab.research.google.com/assets/colab-badge.svg\" alt=\"Open In Colab\"/></a>"
      ]
    },
    {
      "cell_type": "code",
      "execution_count": 11,
      "metadata": {
        "colab": {
          "base_uri": "https://localhost:8080/"
        },
        "id": "LShhPn8pBQQJ",
        "outputId": "ea60e8f6-a5b6-4f11-ca45-433f5075df86"
      },
      "outputs": [
        {
          "output_type": "stream",
          "name": "stdout",
          "text": [
            "----------------------------------------\n",
            "Insira o segunto valor: 10\n",
            "Sinal: %\n",
            "Insira um valor: 2\n",
            " Vai add mais um valor ? S/NN\n",
            "Deseja Parar ? S\n",
            "-+-+-+-+-+-+-+-+-+-+-+-+-+-+-+-+-+-+-+-+\n",
            "          Resultado Final:  0\n",
            "-+-+-+-+-+-+-+-+-+-+-+-+-+-+-+-+-+-+-+-+\n",
            "Obrigado Por Ultilziar o Sistema (:\n",
            "----------------------------------------\n"
          ]
        }
      ],
      "source": [
        "bonus = 0\n",
        "total = 0\n",
        "print(\"-\"*40)\n",
        "Recebe_Dois = int(input(\"Insira o segunto valor: \"))\n",
        "Sinal = str(input(\"Sinal: \"))\n",
        "Recebe_Um = int(input(\"Insira um valor: \"))\n",
        "while True:\n",
        "#Começo da Subtração#\n",
        "  if Sinal == \"+\":\n",
        "    resultado = Recebe_Dois + Recebe_Um\n",
        "    Add_Valor = input(\" Vai add mais um valor ? S/N\")\n",
        "    if Add_Valor == \"S\":\n",
        "      var = int(input(\"qual o Valor ? \"))\n",
        "      bonus += var\n",
        "      total = bonus + resultado\n",
        "      print(total)\n",
        "      print(\"A soma total dos Valores deu: \",total)\n",
        "#fim da soma\n",
        "#Começo da Subtração\n",
        "  if Sinal == \"-\":\n",
        "    resultado = Recebe_Dois - Recebe_Um\n",
        "    Add_Valor = input(\" Vai add mais um valor ? S/N\")\n",
        "    if Add_Valor == \"S\":\n",
        "      var = int(input(\"qual o Valor ? \"))\n",
        "      bonus += var\n",
        "      total = bonus - resultado\n",
        "      print(total)\n",
        "      print(\"A Subtração total dos Valores deu: \",total)\n",
        "#Fim daSubtração\n",
        "#Começo da Multiplicação\n",
        "  if Sinal == \"*\":\n",
        "    resultado = Recebe_Dois * Recebe_Um\n",
        "    Add_Valor = input(\" Vai add mais um valor ? S/N\")\n",
        "    if Add_Valor == \"S\":\n",
        "      var = int(input(\"qual o Valor ? \"))\n",
        "      bonus += var\n",
        "      total = bonus * resultado\n",
        "      print(total)\n",
        "      print(\"A Multiplicação total dos Valores deu: \",total)\n",
        "#Fim da Multiplicação\n",
        "#Começo da Divisão\n",
        "  if Sinal == \"/\":\n",
        "    resultado = Recebe_Dois / Recebe_Um\n",
        "    Add_Valor = input(\" Vai add mais um valor ? S/N\")\n",
        "    if Add_Valor == \"S\":\n",
        "      var = int(input(\"qual o Valor ? \"))\n",
        "      bonus += var\n",
        "      total = bonus / resultado\n",
        "      print(total)\n",
        "      print(\"A  Divisão total dos Valores deu: \",total)\n",
        "#Fim da  Divisão\n",
        "#Começo da resto de divisão\n",
        "  if Sinal == \"%\":\n",
        "    resultado = Recebe_Dois / Recebe_Um\n",
        "    Add_Valor = input(\" Vai add mais um valor ? S/N\")\n",
        "    if Add_Valor == \"S\":\n",
        "      var = int(input(\"qual o Valor ? \"))\n",
        "      bonus += var\n",
        "      total = bonus % resultado\n",
        "      print(total)\n",
        "      print(\"A  Divisão total dos Valores deu: \",total)\n",
        "#Fim da  resto da divisão\n",
        "#começo do comando break\n",
        "  Parar = str(input(\"Deseja Parar ? \"))\n",
        "  if Parar == \"S\":\n",
        "    break\n",
        "#fim do comando break\n",
        "print(\"-+\"*20)\n",
        "print(\" \"*9,\"Resultado Final: \", total)\n",
        "print(\"-+\"*20)\n",
        "print(\"Obrigado Por Ultilziar o Sistema (:\")\n",
        "print(\"-\"*40)"
      ]
    }
  ]
}