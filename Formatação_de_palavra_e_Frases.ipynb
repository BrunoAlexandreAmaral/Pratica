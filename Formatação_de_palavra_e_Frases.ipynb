{
  "nbformat": 4,
  "nbformat_minor": 0,
  "metadata": {
    "colab": {
      "provenance": [],
      "authorship_tag": "ABX9TyO4IYynit3UFfSp2S1xlX+N",
      "include_colab_link": true
    },
    "kernelspec": {
      "name": "python3",
      "display_name": "Python 3"
    },
    "language_info": {
      "name": "python"
    }
  },
  "cells": [
    {
      "cell_type": "markdown",
      "metadata": {
        "id": "view-in-github",
        "colab_type": "text"
      },
      "source": [
        "<a href=\"https://colab.research.google.com/github/BrunoAlexandreAmaral/Pratica/blob/main/Formata%C3%A7%C3%A3o_de_palavra_e_Frases.ipynb\" target=\"_parent\"><img src=\"https://colab.research.google.com/assets/colab-badge.svg\" alt=\"Open In Colab\"/></a>"
      ]
    },
    {
      "cell_type": "markdown",
      "source": [
        "# ***Formatação de palavra e Frases***"
      ],
      "metadata": {
        "id": "DVxOhf7k9Xr-"
      }
    },
    {
      "cell_type": "code",
      "execution_count": 64,
      "metadata": {
        "colab": {
          "base_uri": "https://localhost:8080/"
        },
        "id": "UTDGJ_fL9VxB",
        "outputId": "b8380407-f751-495c-adc2-59b6b896f453"
      },
      "outputs": [
        {
          "output_type": "stream",
          "name": "stdout",
          "text": [
            "Insira uma das seguinte opção\n",
            "1. Coloca toda a string em maiúscula\n",
            "2. Coloca toda a string em minúscula\n",
            "3. Coloca o primeira caractere da string em maiúscula\n",
            "4. Contar quantos Caractere tem Digitado\n",
            "5. Coloca o primeiro caractere de cada palavra para maiúscula\n",
            "6. Gera uma lista com as palavras da frase, cada palavra será uma string\n",
            "7. todos\n",
            "qual função: 1\n",
            "Escreva a Frase\\Palavra: onsbe\n",
            "--------------------------------------------------\n",
            "***** tudo Maiusculo: *****\n",
            "ONSBE\n",
            "--------------------------------------------------\n",
            "Obrigado por Ultilizar o sistema ;)\n"
          ]
        }
      ],
      "source": [
        "print(\"Insira uma das seguinte opção\")\n",
        "print(\"1. Coloca toda a string em maiúscula\")\n",
        "print(\"2. Coloca toda a string em minúscula\")\n",
        "print(\"3. Coloca o primeira caractere da string em maiúscula\")\n",
        "print(\"4. Contar quantos Caractere tem Digitado\")\n",
        "print(\"5. Coloca o primeiro caractere de cada palavra para maiúscula\")\n",
        "print(\"6. Gera uma lista com as palavras da frase, cada palavra será uma string\")\n",
        "print(\"7. todos\")\n",
        "\n",
        "op = int(input(\"qual função: \"))\n",
        "var = str(input(\"Escreva a Frase\\Palavra: \"))\n",
        "if op == 1:\n",
        "  print(\"-\"*50)\n",
        "  print(\"*\"*5,\"tudo Maiusculo:\",\"*\"*5)\n",
        "  print(var.upper())\n",
        "  print(\"-\"*50)\n",
        "elif op == 2:\n",
        "  print(\"-\"*50)\n",
        "  print(\"*\"*5,\"Tudo Minusculo:\",\"*\"*5)\n",
        "  print(var.lower())\n",
        "  print(\"-\"*50)\n",
        "elif op == 3:\n",
        "  print(\"-\"*50)\n",
        "  print(\"*\"*5,\"Primeira letra em Maiusculo:\",\"*\"*5)\n",
        "  print(str(var.capitalize()))\n",
        "  print(\"-\"*50)\n",
        "elif op == 4:\n",
        "  print(\"-\"*50)\n",
        "  print(\"*\"*5,\"Contagem:\",\"*\"*5)\n",
        "  print(len(var))\n",
        "elif op ==5:\n",
        "  print(\"-\"*50)\n",
        "  print(\"*\"*5,\"Primeiro Caractere em Maiusculo:\",\"*\"*5)\n",
        "  print(var.title())\n",
        "  print(\"-\"*50)\n",
        "elif op == 6:\n",
        "  print(\"-\"*50)\n",
        "  print(\"*\"*5,\"Separa a frase em lista\",\"*\"*5)\n",
        "  print(var.split())\n",
        "  print(\"-\"*50)\n",
        "elif op == 7:\n",
        "  print(\"-\"*50)\n",
        "  print(\"*\"*5,\"tudo Maiusculo:\",\"*\"*5)\n",
        "  print(var.upper())\n",
        "  print(\"-\"*50)\n",
        "  print(\"*\"*5,\"Tudo Minusculo:\",\"*\"*5)\n",
        "  print(var.lower())\n",
        "  print(\"-\"*50)\n",
        "  print(\"*\"*5,\"Primeira letra em Maiusculo:\",\"*\"*5)\n",
        "  print(str(var.capitalize()))\n",
        "  print(\"-\"*50)\n",
        "  print(\"*\"*5,\"Contagem:\",\"*\"*5)\n",
        "  print(len(var))\n",
        "  print(\"-\"*50)\n",
        "  print(\"*\"*5,\"Primeiro Caractere em Maiusculo:\",\"*\"*5)\n",
        "  print(var.title())\n",
        "  print(\"-\"*50)\n",
        "  print(\"*\"*5,\"Separa a frase em lista\",\"*\"*5)\n",
        "  print(var.split())\n",
        "  print(\"-\"*50)\n",
        "else :\n",
        "  print(\"Valor da operação esta errado por favor insira o valor de 1 a 7 :)\")\n",
        "print(\"Obrigado por Ultilizar o sistema ;)\")"
      ]
    }
  ]
}